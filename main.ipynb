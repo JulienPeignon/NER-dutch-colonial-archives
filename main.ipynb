{
 "cells": [
  {
   "cell_type": "code",
   "execution_count": 1,
   "id": "699e9b06-b66b-4b3c-a801-5a7e458f728a",
   "metadata": {},
   "outputs": [],
   "source": [
    "%load_ext autoreload\n",
    "%autoreload 2"
   ]
  },
  {
   "cell_type": "code",
   "execution_count": 32,
   "id": "0bb1d80e-0219-427c-b4f4-e3fb0cd57c29",
   "metadata": {},
   "outputs": [],
   "source": [
    "import torch\n",
    "import torch.nn as nn\n",
    "from torch.utils.data import DataLoader\n",
    "from datasets import DatasetDict\n",
    "from transformers import DataCollatorForTokenClassification\n",
    "from transformers import AutoTokenizer\n",
    "from collections import Counter\n",
    "import matplotlib.pyplot as plt\n",
    "\n",
    "from src.configuration.set_up_config_device import (\n",
    "    get_allowed_cpu_count,\n",
    "    set_up_config_device,\n",
    "    set_up_device,\n",
    ")\n",
    "from src.data_processing.loading import load_iob_data\n",
    "from src.data_processing.tokenization import create_tokenized_dataset\n",
    "from src.data_processing.descriptive_statistics import descriptive_statistics\n",
    "from src.model.transformer import (\n",
    "    Transformer,\n",
    "    TransformerForNER,\n",
    ")\n",
    "from src.model.train import (\n",
    "    train_model,\n",
    "    plot_train_val_loss,\n",
    ")\n",
    "from src.evaluate.evaluate import evaluate_ner_model"
   ]
  },
  {
   "cell_type": "code",
   "execution_count": 3,
   "id": "b9796c8b-522c-4c5b-b797-74460f40cb8d",
   "metadata": {},
   "outputs": [
    {
     "name": "stderr",
     "output_type": "stream",
     "text": [
      "2025-04-11 13:38:14 - INFO - Using cuda device\n",
      "2025-04-11 13:38:14 - INFO - Using 104 CPUs\n",
      "2025-04-11 13:38:14 - INFO - torch set up to use 52 processes\n"
     ]
    }
   ],
   "source": [
    "device = set_up_device()\n",
    "cpu_count = get_allowed_cpu_count()\n",
    "n_process = set_up_config_device(cpu_count)"
   ]
  },
  {
   "cell_type": "code",
   "execution_count": 4,
   "id": "b8c46abe-6b9b-49a3-a45c-f4f5e00dad52",
   "metadata": {},
   "outputs": [],
   "source": [
    "tokenizer = AutoTokenizer.from_pretrained(\"bert-base-cased\", add_prefix_space=True)"
   ]
  },
  {
   "cell_type": "code",
   "execution_count": 5,
   "id": "70c985dc-b1db-41ae-9aaa-38c63d64f5fa",
   "metadata": {},
   "outputs": [],
   "source": [
    "BATCH_SIZE = 32\n",
    "LEARNING_RATE = 5e-5\n",
    "NB_EPOCHS = 1"
   ]
  },
  {
   "cell_type": "code",
   "execution_count": 6,
   "id": "698bd6ab-cc15-4f9d-9afe-ad633325e08e",
   "metadata": {},
   "outputs": [],
   "source": [
    "MODEL_PARAMETERS = {\n",
    "    \"pad_idx\": tokenizer.pad_token_id,\n",
    "    \"vocab_size\": tokenizer.vocab_size,\n",
    "    \"hidden_size\": 256,\n",
    "    \"n_head\": 4,\n",
    "    \"max_len\": 512,\n",
    "    \"ffn_hidden\": 512,\n",
    "    \"n_layers\": 4,\n",
    "}"
   ]
  },
  {
   "cell_type": "markdown",
   "id": "5814b963-01eb-481a-b349-7bb7599c8742",
   "metadata": {},
   "source": [
    "# **LOAD & PROCESS DATA**"
   ]
  },
  {
   "cell_type": "code",
   "execution_count": 7,
   "id": "a9a1a5bf-d5b3-4132-8791-ec142feed72d",
   "metadata": {},
   "outputs": [],
   "source": [
    "sentences, labels = load_iob_data(\"data/raw/train-nl.tsv\")"
   ]
  },
  {
   "cell_type": "code",
   "execution_count": 8,
   "id": "5fd68a0a-fb75-413c-8d46-6a9f05eacf8e",
   "metadata": {},
   "outputs": [
    {
     "name": "stderr",
     "output_type": "stream",
     "text": [
      "Map: 100%|██████████| 2199/2199 [00:02<00:00, 931.80 examples/s]\n",
      "Creating json from Arrow format: 100%|██████████| 3/3 [00:00<00:00,  4.68ba/s]"
     ]
    },
    {
     "name": "stdout",
     "output_type": "stream",
     "text": [
      "Tokenized dataset saved at: data/tokenized/tokenized_dataset.json\n"
     ]
    },
    {
     "name": "stderr",
     "output_type": "stream",
     "text": [
      "\n"
     ]
    }
   ],
   "source": [
    "tokenized_dataset = create_tokenized_dataset(\n",
    "    sentences, labels, save_path=\"data/tokenized/tokenized_dataset.json\"\n",
    ")"
   ]
  },
  {
   "cell_type": "code",
   "execution_count": 9,
   "id": "81806291-39df-4a87-8ab8-3c0a8d1fedf3",
   "metadata": {},
   "outputs": [],
   "source": [
    "# Split train/test\n",
    "train_test = tokenized_dataset.train_test_split(test_size=0.2, seed=42)\n",
    "\n",
    "# Split test into validation/test\n",
    "val_test = train_test[\"test\"].train_test_split(test_size=0.5, seed=42)\n",
    "\n",
    "# Recombine into final DatasetDict\n",
    "split_dataset = DatasetDict(\n",
    "    {\n",
    "        \"train\": train_test[\"train\"],\n",
    "        \"validation\": val_test[\"train\"],\n",
    "        \"test\": val_test[\"test\"],\n",
    "    }\n",
    ")"
   ]
  },
  {
   "cell_type": "code",
   "execution_count": 10,
   "id": "a659d555-9711-44f8-8400-1d3d69d1081c",
   "metadata": {},
   "outputs": [
    {
     "data": {
      "text/plain": [
       "DatasetDict({\n",
       "    train: Dataset({\n",
       "        features: ['tokens', 'ner_tags', 'input_ids', 'token_type_ids', 'attention_mask', 'labels'],\n",
       "        num_rows: 1759\n",
       "    })\n",
       "    validation: Dataset({\n",
       "        features: ['tokens', 'ner_tags', 'input_ids', 'token_type_ids', 'attention_mask', 'labels'],\n",
       "        num_rows: 220\n",
       "    })\n",
       "    test: Dataset({\n",
       "        features: ['tokens', 'ner_tags', 'input_ids', 'token_type_ids', 'attention_mask', 'labels'],\n",
       "        num_rows: 220\n",
       "    })\n",
       "})"
      ]
     },
     "execution_count": 10,
     "metadata": {},
     "output_type": "execute_result"
    }
   ],
   "source": [
    "split_dataset"
   ]
  },
  {
   "cell_type": "code",
   "execution_count": 11,
   "id": "c71b6dc3-2565-4a38-a4be-7557dbb70506",
   "metadata": {},
   "outputs": [],
   "source": [
    "data_collator = DataCollatorForTokenClassification(\n",
    "    tokenizer=tokenizer, padding=True, max_length=512, return_tensors=\"pt\"\n",
    ")\n",
    "\n",
    "train_dataset = split_dataset[\"train\"].remove_columns([\"tokens\", \"ner_tags\"])\n",
    "val_dataset = split_dataset[\"validation\"].remove_columns([\"tokens\", \"ner_tags\"])\n",
    "\n",
    "train_loader = DataLoader(\n",
    "    train_dataset, batch_size=BATCH_SIZE, shuffle=True, collate_fn=data_collator\n",
    ")\n",
    "val_loader = DataLoader(val_dataset, batch_size=BATCH_SIZE, collate_fn=data_collator)"
   ]
  },
  {
   "cell_type": "markdown",
   "id": "3c1f3d08-c790-4bae-aadd-ba6057c158d9",
   "metadata": {},
   "source": [
    "# **DESCRIPTIVE STATISTICS**"
   ]
  },
  {
   "cell_type": "code",
   "execution_count": 12,
   "id": "79292ce6-976d-457d-b7a4-187c5a4c3add",
   "metadata": {},
   "outputs": [
    {
     "name": "stdout",
     "output_type": "stream",
     "text": [
      "Corpus Summary:\n",
      "   num_sentences  min_length  mean_length  max_length\n",
      "0           2199           1   227.498863         703\n",
      "\n",
      "IOB Tag Statistics (per sentence):\n",
      "                                 min        mean    max  n_unique_words\n",
      "B-Organization                   0.0    0.483856    7.0           258.0\n",
      "B-Organization,B-Place           0.0    0.001364    1.0             2.0\n",
      "B-Organization,I-Person          0.0    0.001819    2.0             3.0\n",
      "B-Organization,I-Place           0.0    0.016371    2.0            14.0\n",
      "B-Person                         0.0    5.238290   47.0          3501.0\n",
      "B-Person,B-Place                 0.0    0.000910    1.0             2.0\n",
      "B-Person,I-Place                 0.0    0.011369    1.0             9.0\n",
      "B-Place                          0.0    1.858572   12.0          1081.0\n",
      "I-Organization                   0.0    1.435198   25.0           777.0\n",
      "I-Organization,B-Place           0.0    0.135516    3.0           119.0\n",
      "I-Organization,I-Person          0.0    0.005912    7.0             9.0\n",
      "I-Organization,I-Person,B-Place  0.0    0.000910    1.0             1.0\n",
      "I-Organization,I-Person,I-Place  0.0    0.000910    1.0             1.0\n",
      "I-Organization,I-Place           0.0    0.073215    5.0            76.0\n",
      "I-Person                         0.0    9.984538   80.0          8852.0\n",
      "I-Person,B-Place                 0.0    0.075944   16.0            89.0\n",
      "I-Person,I-Place                 0.0    0.035016    5.0            48.0\n",
      "I-Place                          0.0    2.480218  104.0          1723.0\n",
      "O                                0.0  205.658936  633.0         56915.0\n"
     ]
    }
   ],
   "source": [
    "descriptive_statistics(sentences, labels)"
   ]
  },
  {
   "cell_type": "markdown",
   "id": "a0ca51ab-4bc6-40bf-b60b-2465aa29af49",
   "metadata": {},
   "source": [
    "# **DEFINE & TRAIN MODEL**"
   ]
  },
  {
   "cell_type": "code",
   "execution_count": 13,
   "id": "ad3276bd-8772-49a8-9b84-91d382ef9fb4",
   "metadata": {},
   "outputs": [],
   "source": [
    "all_labels = [\n",
    "    label for example in split_dataset[\"train\"] for label in example[\"ner_tags\"]\n",
    "]\n",
    "unique_ids = sorted(set(all_labels))\n",
    "label2id = {i: i for i in range(num_labels)}"
   ]
  },
  {
   "cell_type": "code",
   "execution_count": 15,
   "id": "27050561-b2bc-447a-ad93-e384b593a8c3",
   "metadata": {},
   "outputs": [],
   "source": [
    "model = TransformerForNER(**MODEL_PARAMETERS, num_labels=len(label2id)).to(device)\n",
    "optimizer = torch.optim.AdamW(model.parameters(), lr=LEARNING_RATE)"
   ]
  },
  {
   "cell_type": "code",
   "execution_count": 16,
   "id": "3ea2a2f6-4277-4514-a5ab-40d89f8eb5ac",
   "metadata": {},
   "outputs": [
    {
     "name": "stderr",
     "output_type": "stream",
     "text": [
      "/opt/conda/lib/python3.12/site-packages/transformers/tokenization_utils_base.py:2718: UserWarning: `max_length` is ignored when `padding`=`True` and there is no truncation strategy. To pad to max length, use `padding='max_length'`.\n",
      "  warnings.warn(\n"
     ]
    },
    {
     "name": "stdout",
     "output_type": "stream",
     "text": [
      "Epoch 1/50 - Train Loss: 1.0322 | Val Loss: 0.5381\n",
      "Epoch 2/50 - Train Loss: 0.5240 | Val Loss: 0.4967\n",
      "Epoch 3/50 - Train Loss: 0.4908 | Val Loss: 0.4712\n",
      "Epoch 4/50 - Train Loss: 0.4694 | Val Loss: 0.4511\n",
      "Epoch 5/50 - Train Loss: 0.4536 | Val Loss: 0.4396\n",
      "Epoch 6/50 - Train Loss: 0.4405 | Val Loss: 0.4330\n",
      "Epoch 7/50 - Train Loss: 0.4294 | Val Loss: 0.4191\n",
      "Epoch 8/50 - Train Loss: 0.4192 | Val Loss: 0.4100\n",
      "Epoch 9/50 - Train Loss: 0.4120 | Val Loss: 0.4066\n",
      "Epoch 10/50 - Train Loss: 0.4045 | Val Loss: 0.3985\n",
      "Epoch 11/50 - Train Loss: 0.3974 | Val Loss: 0.3907\n",
      "Epoch 12/50 - Train Loss: 0.3924 | Val Loss: 0.3869\n",
      "Epoch 13/50 - Train Loss: 0.3871 | Val Loss: 0.3836\n",
      "Epoch 14/50 - Train Loss: 0.3818 | Val Loss: 0.3825\n",
      "Epoch 15/50 - Train Loss: 0.3769 | Val Loss: 0.3763\n",
      "Epoch 16/50 - Train Loss: 0.3739 | Val Loss: 0.3719\n",
      "Epoch 17/50 - Train Loss: 0.3691 | Val Loss: 0.3759\n",
      "Epoch 18/50 - Train Loss: 0.3659 | Val Loss: 0.3727\n",
      "Epoch 19/50 - Train Loss: 0.3623 | Val Loss: 0.3678\n",
      "Epoch 20/50 - Train Loss: 0.3594 | Val Loss: 0.3626\n",
      "Epoch 21/50 - Train Loss: 0.3558 | Val Loss: 0.3603\n",
      "Epoch 22/50 - Train Loss: 0.3540 | Val Loss: 0.3589\n",
      "Epoch 23/50 - Train Loss: 0.3500 | Val Loss: 0.3599\n",
      "Epoch 24/50 - Train Loss: 0.3478 | Val Loss: 0.3622\n",
      "Epoch 25/50 - Train Loss: 0.3447 | Val Loss: 0.3542\n",
      "Epoch 26/50 - Train Loss: 0.3438 | Val Loss: 0.3582\n",
      "Epoch 27/50 - Train Loss: 0.3391 | Val Loss: 0.3578\n",
      "Epoch 28/50 - Train Loss: 0.3370 | Val Loss: 0.3613\n",
      "Epoch 29/50 - Train Loss: 0.3338 | Val Loss: 0.3506\n",
      "Epoch 30/50 - Train Loss: 0.3323 | Val Loss: 0.3522\n",
      "Epoch 31/50 - Train Loss: 0.3293 | Val Loss: 0.3472\n",
      "Epoch 32/50 - Train Loss: 0.3266 | Val Loss: 0.3471\n",
      "Epoch 33/50 - Train Loss: 0.3248 | Val Loss: 0.3458\n",
      "Epoch 34/50 - Train Loss: 0.3234 | Val Loss: 0.3450\n",
      "Epoch 35/50 - Train Loss: 0.3199 | Val Loss: 0.3453\n",
      "Epoch 36/50 - Train Loss: 0.3183 | Val Loss: 0.3461\n",
      "Epoch 37/50 - Train Loss: 0.3167 | Val Loss: 0.3457\n",
      "Epoch 38/50 - Train Loss: 0.3158 | Val Loss: 0.3400\n",
      "Epoch 39/50 - Train Loss: 0.3123 | Val Loss: 0.3447\n",
      "Epoch 40/50 - Train Loss: 0.3088 | Val Loss: 0.3399\n",
      "Epoch 41/50 - Train Loss: 0.3076 | Val Loss: 0.3412\n",
      "Epoch 42/50 - Train Loss: 0.3059 | Val Loss: 0.3398\n",
      "Epoch 43/50 - Train Loss: 0.3036 | Val Loss: 0.3387\n",
      "Epoch 44/50 - Train Loss: 0.3004 | Val Loss: 0.3392\n",
      "Epoch 45/50 - Train Loss: 0.2991 | Val Loss: 0.3445\n",
      "Epoch 46/50 - Train Loss: 0.2979 | Val Loss: 0.3375\n",
      "Epoch 47/50 - Train Loss: 0.2959 | Val Loss: 0.3375\n",
      "Epoch 48/50 - Train Loss: 0.2925 | Val Loss: 0.3398\n",
      "Epoch 49/50 - Train Loss: 0.2904 | Val Loss: 0.3380\n",
      "Epoch 50/50 - Train Loss: 0.2884 | Val Loss: 0.3358\n"
     ]
    }
   ],
   "source": [
    "train_losses, val_losses = train_model(\n",
    "    model,\n",
    "    train_loader,\n",
    "    val_loader,\n",
    "    optimizer,\n",
    "    device,\n",
    "    epochs=NB_EPOCHS,\n",
    "    save_path=\"checkpoints/best_model.pt\",\n",
    ")"
   ]
  },
  {
   "cell_type": "code",
   "execution_count": 21,
   "id": "60146e93-9c09-4a86-8a04-5dc60186f95f",
   "metadata": {},
   "outputs": [
    {
     "data": {
      "image/png": "[encoded data removed]",
      "text/plain": [
       "<Figure size 1000x500 with 1 Axes>"
      ]
     },
     "metadata": {},
     "output_type": "display_data"
    }
   ],
   "source": [
    "plot_train_val_loss(train_losses, val_losses, title=\"Training vs Validation Loss\")"
   ]
  },
  {
   "cell_type": "markdown",
   "id": "6e4457c6-7db9-4dae-9aa4-118de7e090e7",
   "metadata": {},
   "source": [
    "# **EVALUATE RESULTS**"
   ]
  },
  {
   "cell_type": "code",
   "execution_count": 33,
   "id": "dfaf3cba-20a6-4e96-98b6-f6f76185d6a0",
   "metadata": {},
   "outputs": [],
   "source": [
    "test_dataset = split_dataset[\"test\"].remove_columns([\"tokens\", \"ner_tags\"])\n",
    "\n",
    "test_loader = DataLoader(test_dataset, batch_size=BATCH_SIZE, collate_fn=data_collator)"
   ]
  },
  {
   "cell_type": "code",
   "execution_count": 34,
   "id": "84a97deb-474b-4dd3-8476-99b3b33623f1",
   "metadata": {},
   "outputs": [],
   "source": [
    "unique_labels = sorted(set(label for sent in labels for label in sent))\n",
    "label2id = {label: i for i, label in enumerate(unique_labels)}\n",
    "id2label = {i: label for label, i in label2id.items()}"
   ]
  },
  {
   "cell_type": "code",
   "execution_count": 35,
   "id": "f0b073e7-4501-46b5-a8d9-b16c175799f0",
   "metadata": {},
   "outputs": [
    {
     "name": "stdout",
     "output_type": "stream",
     "text": [
      "🔍 seqeval classification report:\n",
      "                      precision    recall  f1-score   support\n",
      "\n",
      "        Organization     0.0357    0.0133    0.0194        75\n",
      "Organization,B-Place     0.0000    0.0000    0.0000        29\n",
      "Organization,I-Place     0.3333    0.0588    0.1000        17\n",
      "              Person     0.1240    0.1902    0.1501       915\n",
      "      Person,B-Place     1.0000    0.0769    0.1429        13\n",
      "      Person,I-Place     0.0000    0.0000    0.0000         6\n",
      "               Place     0.2692    0.1909    0.2234       330\n",
      "\n",
      "           micro avg     0.1437    0.1733    0.1571      1385\n",
      "           macro avg     0.2518    0.0757    0.0908      1385\n",
      "        weighted avg     0.1615    0.1733    0.1560      1385\n",
      "\n",
      "\n",
      "F1-score (micro): 0.1571\n"
     ]
    }
   ],
   "source": [
    "evaluate_ner_model(model, test_loader, id2label, device=device)"
   ]
  }
 ],
 "metadata": {
  "kernelspec": {
   "display_name": "Python 3 (ipykernel)",
   "language": "python",
   "name": "python3"
  },
  "language_info": {
   "codemirror_mode": {
    "name": "ipython",
    "version": 3
   },
   "file_extension": ".py",
   "mimetype": "text/x-python",
   "name": "python",
   "nbconvert_exporter": "python",
   "pygments_lexer": "ipython3",
   "version": "3.12.9"
  }
 },
 "nbformat": 4,
 "nbformat_minor": 5
}
