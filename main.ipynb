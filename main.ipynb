{
 "cells": [
  {
   "cell_type": "code",
   "execution_count": 19,
   "id": "699e9b06-b66b-4b3c-a801-5a7e458f728a",
   "metadata": {},
   "outputs": [
    {
     "name": "stdout",
     "output_type": "stream",
     "text": [
      "The autoreload extension is already loaded. To reload it, use:\n",
      "  %reload_ext autoreload\n"
     ]
    }
   ],
   "source": [
    "%load_ext autoreload\n",
    "%autoreload 2"
   ]
  },
  {
   "cell_type": "code",
   "execution_count": 22,
   "id": "0bb1d80e-0219-427c-b4f4-e3fb0cd57c29",
   "metadata": {},
   "outputs": [],
   "source": [
    "import torch\n",
    "import torch.nn as nn\n",
    "from torch.utils.data import DataLoader\n",
    "from datasets import DatasetDict\n",
    "from transformers import AutoTokenizer\n",
    "from collections import Counter\n",
    "import matplotlib.pyplot as plt\n",
    "\n",
    "from src.configuration.set_up_config_device import (\n",
    "    get_allowed_cpu_count,\n",
    "    set_up_config_device,\n",
    "    set_up_device,\n",
    ")\n",
    "from src.data_processing.loading import load_iob_data\n",
    "from src.data_processing.tokenization import create_tokenized_dataset\n",
    "from src.data_processing.collator import make_collator\n",
    "from src.data_processing.descriptive_statistics import descriptive_statistics\n",
    "from src.model.transformer import TransformerForNER\n",
    "from src.model.BERTje import BertForNER\n",
    "from src.model.optimization import get_optimizer_and_scheduler\n",
    "from src.model.train import (\n",
    "    train_model,\n",
    "    plot_train_val_loss,\n",
    ")\n",
    "from src.evaluate.evaluate import evaluate_ner_model"
   ]
  },
  {
   "cell_type": "code",
   "execution_count": 4,
   "id": "b9796c8b-522c-4c5b-b797-74460f40cb8d",
   "metadata": {},
   "outputs": [
    {
     "name": "stderr",
     "output_type": "stream",
     "text": [
      "2025-04-19 15:18:59 - INFO - Using cpu device\n",
      "2025-04-19 15:18:59 - INFO - Using 104 CPUs\n",
      "2025-04-19 15:18:59 - INFO - torch set up to use 52 processes\n"
     ]
    }
   ],
   "source": [
    "device = set_up_device()\n",
    "cpu_count = get_allowed_cpu_count()\n",
    "n_process = set_up_config_device(cpu_count)"
   ]
  },
  {
   "cell_type": "code",
   "execution_count": 5,
   "id": "b8c46abe-6b9b-49a3-a45c-f4f5e00dad52",
   "metadata": {},
   "outputs": [],
   "source": [
    "tokenizer = AutoTokenizer.from_pretrained(\n",
    "    \"GroNLP/bert-base-dutch-cased\", add_prefix_space=True\n",
    ")"
   ]
  },
  {
   "cell_type": "code",
   "execution_count": 6,
   "id": "70c985dc-b1db-41ae-9aaa-38c63d64f5fa",
   "metadata": {},
   "outputs": [],
   "source": [
    "BATCH_SIZE = 32\n",
    "LEARNING_RATE = 5e-5\n",
    "NB_EPOCHS = 30"
   ]
  },
  {
   "cell_type": "code",
   "execution_count": 8,
   "id": "698bd6ab-cc15-4f9d-9afe-ad633325e08e",
   "metadata": {},
   "outputs": [],
   "source": [
    "TRANSFORMER_PARAMETERS = {\n",
    "    \"pad_idx\": tokenizer.pad_token_id,\n",
    "    \"vocab_size\": tokenizer.vocab_size,\n",
    "    \"hidden_size\": 256,\n",
    "    \"n_head\": 4,\n",
    "    \"ffn_hidden\": 512,\n",
    "    \"n_layers\": 4,\n",
    "    \"max_len\": 512,\n",
    "}"
   ]
  },
  {
   "cell_type": "markdown",
   "id": "5814b963-01eb-481a-b349-7bb7599c8742",
   "metadata": {},
   "source": [
    "# **LOAD & PROCESS DATA**"
   ]
  },
  {
   "cell_type": "code",
   "execution_count": 9,
   "id": "a9a1a5bf-d5b3-4132-8791-ec142feed72d",
   "metadata": {},
   "outputs": [],
   "source": [
    "sentences, labels = load_iob_data(\"data/raw/train-nl.tsv\")"
   ]
  },
  {
   "cell_type": "code",
   "execution_count": 10,
   "id": "5fd68a0a-fb75-413c-8d46-6a9f05eacf8e",
   "metadata": {},
   "outputs": [
    {
     "name": "stderr",
     "output_type": "stream",
     "text": [
      "Map: 100%|██████████| 2199/2199 [00:02<00:00, 824.84 examples/s]\n",
      "Creating json from Arrow format: 100%|██████████| 3/3 [00:00<00:00,  4.99ba/s]"
     ]
    },
    {
     "name": "stdout",
     "output_type": "stream",
     "text": [
      "Tokenized dataset saved at: data/tokenized/tokenized_dataset.json\n"
     ]
    },
    {
     "name": "stderr",
     "output_type": "stream",
     "text": [
      "\n"
     ]
    }
   ],
   "source": [
    "tokenized_dataset, label2id, id2label = create_tokenized_dataset(\n",
    "    sentences, labels, tokenizer, save_path=\"data/tokenized/tokenized_dataset.json\"\n",
    ")"
   ]
  },
  {
   "cell_type": "code",
   "execution_count": 11,
   "id": "81806291-39df-4a87-8ab8-3c0a8d1fedf3",
   "metadata": {},
   "outputs": [],
   "source": [
    "# Split train/test\n",
    "train_test = tokenized_dataset.train_test_split(test_size=0.2, seed=42)\n",
    "\n",
    "# Split test into validation/test\n",
    "val_test = train_test[\"test\"].train_test_split(test_size=0.5, seed=42)\n",
    "\n",
    "# Recombine into final DatasetDict\n",
    "split_dataset = DatasetDict(\n",
    "    {\n",
    "        \"train\": train_test[\"train\"],\n",
    "        \"validation\": val_test[\"train\"],\n",
    "        \"test\": val_test[\"test\"],\n",
    "    }\n",
    ")"
   ]
  },
  {
   "cell_type": "code",
   "execution_count": 12,
   "id": "a659d555-9711-44f8-8400-1d3d69d1081c",
   "metadata": {},
   "outputs": [
    {
     "data": {
      "text/plain": [
       "DatasetDict({\n",
       "    train: Dataset({\n",
       "        features: ['tokens', 'ner_tags', 'input_ids', 'token_type_ids', 'attention_mask', 'labels'],\n",
       "        num_rows: 1759\n",
       "    })\n",
       "    validation: Dataset({\n",
       "        features: ['tokens', 'ner_tags', 'input_ids', 'token_type_ids', 'attention_mask', 'labels'],\n",
       "        num_rows: 220\n",
       "    })\n",
       "    test: Dataset({\n",
       "        features: ['tokens', 'ner_tags', 'input_ids', 'token_type_ids', 'attention_mask', 'labels'],\n",
       "        num_rows: 220\n",
       "    })\n",
       "})"
      ]
     },
     "execution_count": 12,
     "metadata": {},
     "output_type": "execute_result"
    }
   ],
   "source": [
    "split_dataset"
   ]
  },
  {
   "cell_type": "code",
   "execution_count": 13,
   "id": "c71b6dc3-2565-4a38-a4be-7557dbb70506",
   "metadata": {},
   "outputs": [],
   "source": [
    "train_dataset = split_dataset[\"train\"].remove_columns([\"tokens\", \"ner_tags\"])\n",
    "val_dataset = split_dataset[\"validation\"].remove_columns([\"tokens\", \"ner_tags\"])\n",
    "\n",
    "collate_fn = make_collator(tokenizer, label2id)\n",
    "\n",
    "train_loader = DataLoader(\n",
    "    train_dataset, batch_size=BATCH_SIZE, shuffle=True, collate_fn=collate_fn\n",
    ")\n",
    "val_loader = DataLoader(val_dataset, batch_size=BATCH_SIZE, collate_fn=collate_fn)"
   ]
  },
  {
   "cell_type": "markdown",
   "id": "3c1f3d08-c790-4bae-aadd-ba6057c158d9",
   "metadata": {},
   "source": [
    "# **DESCRIPTIVE STATISTICS**"
   ]
  },
  {
   "cell_type": "code",
   "execution_count": 12,
   "id": "79292ce6-976d-457d-b7a4-187c5a4c3add",
   "metadata": {},
   "outputs": [
    {
     "name": "stdout",
     "output_type": "stream",
     "text": [
      "Corpus Summary:\n",
      "   num_sentences  min_length  mean_length  max_length\n",
      "0           2199           1   227.498863         703\n",
      "\n",
      "IOB Tag Statistics (per sentence):\n",
      "                                 min        mean    max  n_unique_words\n",
      "B-Organization                   0.0    0.483856    7.0           258.0\n",
      "B-Organization,B-Place           0.0    0.001364    1.0             2.0\n",
      "B-Organization,I-Person          0.0    0.001819    2.0             3.0\n",
      "B-Organization,I-Place           0.0    0.016371    2.0            14.0\n",
      "B-Person                         0.0    5.238290   47.0          3501.0\n",
      "B-Person,B-Place                 0.0    0.000910    1.0             2.0\n",
      "B-Person,I-Place                 0.0    0.011369    1.0             9.0\n",
      "B-Place                          0.0    1.858572   12.0          1081.0\n",
      "I-Organization                   0.0    1.435198   25.0           777.0\n",
      "I-Organization,B-Place           0.0    0.135516    3.0           119.0\n",
      "I-Organization,I-Person          0.0    0.005912    7.0             9.0\n",
      "I-Organization,I-Person,B-Place  0.0    0.000910    1.0             1.0\n",
      "I-Organization,I-Person,I-Place  0.0    0.000910    1.0             1.0\n",
      "I-Organization,I-Place           0.0    0.073215    5.0            76.0\n",
      "I-Person                         0.0    9.984538   80.0          8852.0\n",
      "I-Person,B-Place                 0.0    0.075944   16.0            89.0\n",
      "I-Person,I-Place                 0.0    0.035016    5.0            48.0\n",
      "I-Place                          0.0    2.480218  104.0          1723.0\n",
      "O                                0.0  205.658936  633.0         56915.0\n"
     ]
    }
   ],
   "source": [
    "descriptive_statistics(sentences, labels)"
   ]
  },
  {
   "cell_type": "markdown",
   "id": "a0ca51ab-4bc6-40bf-b60b-2465aa29af49",
   "metadata": {},
   "source": [
    "# **DEFINE & TRAIN MODEL**"
   ]
  },
  {
   "cell_type": "code",
   "execution_count": 13,
   "id": "27050561-b2bc-447a-ad93-e384b593a8c3",
   "metadata": {},
   "outputs": [],
   "source": [
    "Transformer = TransformerForNER(**TRANSFORMER_PARAMETERS, num_labels=len(label2id)).to(device)"
   ]
  },
  {
   "cell_type": "code",
   "execution_count": 14,
   "id": "610b9d73-67ff-461e-a392-7cdfcf05b12b",
   "metadata": {},
   "outputs": [],
   "source": [
    "optimizer, scheduler = get_optimizer_and_scheduler(\n",
    "    Transformer, train_loader, epochs=NB_EPOCHS\n",
    ")"
   ]
  },
  {
   "cell_type": "code",
   "execution_count": 15,
   "id": "3ea2a2f6-4277-4514-a5ab-40d89f8eb5ac",
   "metadata": {},
   "outputs": [
    {
     "name": "stdout",
     "output_type": "stream",
     "text": [
      "Epoch 1/30 - Train Loss: 733.9054 | Val Loss: 228.8323\n",
      "Epoch 2/30 - Train Loss: 141.7824 | Val Loss: 108.9477\n",
      "Epoch 3/30 - Train Loss: 105.2969 | Val Loss: 97.9260\n",
      "Epoch 4/30 - Train Loss: 96.0103 | Val Loss: 91.3624\n",
      "Epoch 5/30 - Train Loss: 90.8111 | Val Loss: 87.8426\n",
      "Epoch 6/30 - Train Loss: 86.6847 | Val Loss: 84.0788\n",
      "Epoch 7/30 - Train Loss: 83.2222 | Val Loss: 80.3190\n",
      "Epoch 8/30 - Train Loss: 80.3028 | Val Loss: 77.8226\n",
      "Epoch 9/30 - Train Loss: 77.3405 | Val Loss: 75.6697\n",
      "Epoch 10/30 - Train Loss: 75.0544 | Val Loss: 73.3606\n",
      "Epoch 11/30 - Train Loss: 73.2809 | Val Loss: 71.8111\n",
      "Epoch 12/30 - Train Loss: 71.9156 | Val Loss: 71.3057\n",
      "Epoch 13/30 - Train Loss: 70.7576 | Val Loss: 70.2540\n",
      "Epoch 14/30 - Train Loss: 69.6783 | Val Loss: 69.5246\n",
      "Epoch 15/30 - Train Loss: 68.5956 | Val Loss: 68.6919\n",
      "Epoch 16/30 - Train Loss: 67.9014 | Val Loss: 68.2986\n",
      "Epoch 17/30 - Train Loss: 67.3097 | Val Loss: 67.6870\n",
      "Epoch 18/30 - Train Loss: 66.6493 | Val Loss: 67.4681\n",
      "Epoch 19/30 - Train Loss: 66.0435 | Val Loss: 67.1547\n",
      "Epoch 20/30 - Train Loss: 65.6432 | Val Loss: 66.6035\n",
      "Epoch 21/30 - Train Loss: 65.3539 | Val Loss: 66.0639\n",
      "Epoch 22/30 - Train Loss: 64.8404 | Val Loss: 66.2963\n",
      "Epoch 23/30 - Train Loss: 64.5281 | Val Loss: 66.0363\n",
      "Epoch 24/30 - Train Loss: 64.3421 | Val Loss: 65.8245\n",
      "Epoch 25/30 - Train Loss: 63.9263 | Val Loss: 65.5520\n",
      "Epoch 26/30 - Train Loss: 63.7964 | Val Loss: 65.4536\n",
      "Epoch 27/30 - Train Loss: 63.6042 | Val Loss: 65.0605\n",
      "Epoch 28/30 - Train Loss: 63.5398 | Val Loss: 65.0794\n",
      "Epoch 29/30 - Train Loss: 63.3938 | Val Loss: 65.1014\n",
      "Epoch 30/30 - Train Loss: 63.3368 | Val Loss: 65.0608\n"
     ]
    }
   ],
   "source": [
    "train_losses_transformer, val_losses_transformer = train_model(\n",
    "    Transformer,\n",
    "    train_loader,\n",
    "    val_loader,\n",
    "    optimizer,\n",
    "    scheduler=scheduler,\n",
    "    device=device,\n",
    "    epochs=NB_EPOCHS,\n",
    "    save_path=\"checkpoints/best_model_transformer.pt\",\n",
    ")"
   ]
  },
  {
   "cell_type": "code",
   "execution_count": 19,
   "id": "60146e93-9c09-4a86-8a04-5dc60186f95f",
   "metadata": {},
   "outputs": [
    {
     "data": {
      "image/png": "[encoded data removed]",
      "text/plain": [
       "<Figure size 1000x500 with 1 Axes>"
      ]
     },
     "metadata": {},
     "output_type": "display_data"
    }
   ],
   "source": [
    "plot_train_val_loss(\n",
    "    train_losses_transformer[1:], val_losses_transformer[1:], title=\"Transformer : Training vs Validation Loss\"\n",
    ")"
   ]
  },
  {
   "cell_type": "code",
   "execution_count": 25,
   "id": "4da703ff-1b4e-4366-b3a2-a4da9ad5501e",
   "metadata": {},
   "outputs": [
    {
     "name": "stderr",
     "output_type": "stream",
     "text": [
      "Some weights of BertModel were not initialized from the model checkpoint at GroNLP/bert-base-dutch-cased and are newly initialized: ['pooler.dense.bias', 'pooler.dense.weight']\n",
      "You should probably TRAIN this model on a down-stream task to be able to use it for predictions and inference.\n"
     ]
    }
   ],
   "source": [
    "BERTje = BertForNER(num_labels=len(label2id)).to(device)"
   ]
  },
  {
   "cell_type": "code",
   "execution_count": 26,
   "id": "ce3946ab-d99b-4514-8472-db5c74244f5d",
   "metadata": {},
   "outputs": [],
   "source": [
    "optimizer, scheduler = get_optimizer_and_scheduler(\n",
    "    BERTje, train_loader, epochs=NB_EPOCHS\n",
    ")"
   ]
  },
  {
   "cell_type": "code",
   "execution_count": null,
   "id": "e0154216-49bd-4284-b73e-ce4ec2aea434",
   "metadata": {},
   "outputs": [],
   "source": [
    "train_losses_BERTje, val_losses_BERTje = train_model(\n",
    "    BERTje,\n",
    "    train_loader,\n",
    "    val_loader,\n",
    "    optimizer,\n",
    "    scheduler=scheduler,\n",
    "    device=device,\n",
    "    epochs=NB_EPOCHS,\n",
    "    save_path=\"checkpoints/best_model_BERTje.pt\",\n",
    ")"
   ]
  },
  {
   "cell_type": "code",
   "execution_count": null,
   "id": "ecdf9501-3d83-4cdb-a8a0-77d5b6a26761",
   "metadata": {},
   "outputs": [],
   "source": [
    "plot_train_val_loss(\n",
    "    train_losses_BERTje[1:], val_losses_BERTje[1:], title=\"BERTje : Training vs Validation Loss\"\n",
    ")"
   ]
  },
  {
   "cell_type": "markdown",
   "id": "6e4457c6-7db9-4dae-9aa4-118de7e090e7",
   "metadata": {},
   "source": [
    "# **EVALUATE RESULTS**"
   ]
  },
  {
   "cell_type": "code",
   "execution_count": 17,
   "id": "dfaf3cba-20a6-4e96-98b6-f6f76185d6a0",
   "metadata": {},
   "outputs": [],
   "source": [
    "test_dataset = split_dataset[\"test\"].remove_columns([\"tokens\", \"ner_tags\"])\n",
    "\n",
    "test_loader = DataLoader(test_dataset, batch_size=BATCH_SIZE, collate_fn=collate_fn)"
   ]
  },
  {
   "cell_type": "code",
   "execution_count": 18,
   "id": "f0b073e7-4501-46b5-a8d9-b16c175799f0",
   "metadata": {},
   "outputs": [
    {
     "name": "stdout",
     "output_type": "stream",
     "text": [
      "🔍 seqeval classification report:\n",
      "                      precision    recall  f1-score   support\n",
      "\n",
      "        Organization     0.2308    0.0123    0.0234       243\n",
      "Organization,B-Place     0.0000    0.0000    0.0000        31\n",
      "Organization,I-Place     0.0000    0.0000    0.0000        20\n",
      "              Person     0.3970    0.2801    0.3285      2017\n",
      "      Person,B-Place     0.0000    0.0000    0.0000        13\n",
      "      Person,I-Place     0.0000    0.0000    0.0000        10\n",
      "               Place     0.4120    0.1852    0.2555       594\n",
      "\n",
      "           micro avg     0.3979    0.2316    0.2927      2928\n",
      "           macro avg     0.1485    0.0682    0.0868      2928\n",
      "        weighted avg     0.3762    0.2316    0.2801      2928\n",
      "\n",
      "\n",
      "F1-score (micro): 0.2927\n"
     ]
    }
   ],
   "source": [
    "evaluate_ner_model(Transformer, test_loader, id2label, device=device)"
   ]
  },
  {
   "cell_type": "code",
   "execution_count": null,
   "id": "53ec87fb-3549-48cf-9299-272654cde6b9",
   "metadata": {},
   "outputs": [],
   "source": [
    "evaluate_ner_model(BERTje, test_loader, id2label, device=device)"
   ]
  }
 ],
 "metadata": {
  "kernelspec": {
   "display_name": "Python 3 (ipykernel)",
   "language": "python",
   "name": "python3"
  },
  "language_info": {
   "codemirror_mode": {
    "name": "ipython",
    "version": 3
   },
   "file_extension": ".py",
   "mimetype": "text/x-python",
   "name": "python",
   "nbconvert_exporter": "python",
   "pygments_lexer": "ipython3",
   "version": "3.12.9"
  }
 },
 "nbformat": 4,
 "nbformat_minor": 5
}
